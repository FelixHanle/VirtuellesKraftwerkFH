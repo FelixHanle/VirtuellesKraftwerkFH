{
 "cells": [
  {
   "cell_type": "code",
   "execution_count": null,
   "id": "4dbf61e7",
   "metadata": {},
   "outputs": [],
   "source": []
  },
  {
   "cell_type": "markdown",
   "id": "638acc79",
   "metadata": {},
   "source": [
    "# Kraftwerkscode in Einzelteilen"
   ]
  },
  {
   "cell_type": "code",
   "execution_count": 1,
   "id": "e57ce362",
   "metadata": {},
   "outputs": [],
   "source": [
    "########################## Bibliotheken importieren und StandartLastprofil auslesen #######################################\n",
    "\n",
    "import csv # Um StandartLastProfil lesen zu können\n",
    "\n",
    "import sys # Damit das Programm beendet werden kann, falls Zeitstempel nicht existiert\n",
    "\n",
    "\n",
    "# Beispielaufruf der Funktion\n",
    "csv_datei = \"Text_Datenbasis_Virtuelles_Kraftwerk.csv\"  # Pfad zur CSV-Datei\n",
    "datum = \"01.01.20XX\"  # input(\"Bitte Datum im Format 00.00.20XX eingeben (20XX bitte 1zu1 kopieren):\")\n",
    "zeitfenster = \"00:45 - 01:00\"   #input(\"Als nächstes bitte Zeitstempel eingeben (Beispiel 18:00 - 18:15):\")\n",
    "\n",
    "\n",
    "\n"
   ]
  },
  {
   "cell_type": "code",
   "execution_count": null,
   "id": "535c49e5",
   "metadata": {},
   "outputs": [],
   "source": []
  },
  {
   "cell_type": "code",
   "execution_count": 2,
   "id": "80365c8a",
   "metadata": {},
   "outputs": [
    {
     "name": "stdout",
     "output_type": "stream",
     "text": [
      "Datum: 01.01.20XX | Zeitfenster: 00:45 - 01:00 | VerbrauchHaushalte: 6,54 | VerbrauchGewerbe: 16,73 | EinspeisungPV: 0 | EinspeisungWind: 30,98\n"
     ]
    }
   ],
   "source": [
    "############################### ZeitstempelZeileAusgeben und rechnen ################################################\n",
    "\n",
    "\n",
    "def ZeitstempelZeileRechnen(csv_datei, datum, zeitfenster):\n",
    "    \n",
    "\n",
    "    with open(csv_datei, newline='') as Datenbasis:\n",
    "        csv_reader_object = csv.reader(Datenbasis, delimiter=';')\n",
    "\n",
    "        for row in csv_reader_object:\n",
    "            if row[0] == datum and row[1] == zeitfenster:\n",
    "                return(row[0], row[1], row[2], row[3],row[4], row[5])\n",
    "                \n",
    "\n",
    "    return False\n",
    "\n",
    "\n",
    "\n",
    "\n",
    "\n",
    "##################################################################\n",
    "# Aufruf der vorgelagerte Funktion und Abbruch, falls False\n",
    "if not ZeitstempelZeileRechnen(csv_datei, datum, zeitfenster):\n",
    "    print(\n",
    "        f'!!!!!!!!!!! Das eingegebene Datum und/oder Zeitfenster existiert in der Datei {csv_datei} nicht !!!!!!!!!!!!!!!')\n",
    "    sys.exit()  # Beendet die Ausführung des Programms\n",
    "    \n",
    "######################################################################\n",
    "\n",
    "\n",
    "\n",
    "\n",
    "# Aufruf der Funktion und Speichern des Rückgabewerts\n",
    "Rechenwert_gefunden = ZeitstempelZeileRechnen(csv_datei, datum, zeitfenster)\n",
    "\n",
    "\n",
    "##################################################################\n",
    "\n",
    "if ZeitstempelZeileRechnen(csv_datei, datum, zeitfenster):\n",
    "    print(f'Datum: {Rechenwert_gefunden[0]} | Zeitfenster: {Rechenwert_gefunden[1]} | VerbrauchHaushalte: {Rechenwert_gefunden[2]} | VerbrauchGewerbe: {Rechenwert_gefunden[3]} | EinspeisungPV: {Rechenwert_gefunden[4]} | EinspeisungWind: {Rechenwert_gefunden[5]}')\n",
    "    \n",
    "##################################################################\n",
    "\n",
    "type (Rechenwert_gefunden)\n",
    "\n",
    "# Tupel in Liste umwandeln\n",
    "list(Rechenwert_gefunden)\n",
    "\n",
    "\n",
    "# Zeichenfolgen ersetzen: ',' durch '.' mittels List Comprehension, vorbereitung um str in float umzuwandeln\n",
    "Rechenwert_gefunden_dot = [Rechenwert_gefunden.replace(',', '.') for Rechenwert_gefunden in Rechenwert_gefunden]\n",
    "\n",
    "#print(Rechenwert_gefunden_dot)\n",
    "\n",
    "\n"
   ]
  },
  {
   "cell_type": "code",
   "execution_count": 3,
   "id": "13202a8f",
   "metadata": {},
   "outputs": [
    {
     "name": "stdout",
     "output_type": "stream",
     "text": [
      "Last -> 7.71 GigaWatt\n",
      "Stromueberschuss!!! Zuschaltbare Lasten pruefen oder Strom ins Ausland exportieren!\n"
     ]
    }
   ],
   "source": [
    "#####Gesamtlast des Zeitstempels berechnen und ausgeben #################\n",
    "\n",
    "def LastGesamt():\n",
    "\n",
    "    ZeitstempelVerbrauchHaushalte = float(Rechenwert_gefunden_dot[2])\n",
    "    ZeitstempelVerbrauchHaushalte\n",
    "\n",
    "    ZeitstempelVerbrauchGewerbe = float(Rechenwert_gefunden_dot[3])\n",
    "    ZeitstempelVerbrauchGewerbe\n",
    "\n",
    "    ZeitstempelEinspeisungPV = float(Rechenwert_gefunden_dot[4])\n",
    "    ZeitstempelEinspeisungPV\n",
    "\n",
    "    ZeitstempelEinspeisungWind = float(Rechenwert_gefunden_dot[5])\n",
    "    ZeitstempelEinspeisungWind\n",
    "\n",
    "\n",
    "    LastHH = ZeitstempelVerbrauchHaushalte * (-1)\n",
    "    LastGW = ZeitstempelVerbrauchGewerbe * (-1)\n",
    "    LastPV = ZeitstempelEinspeisungPV\n",
    "    LastWind = ZeitstempelEinspeisungWind\n",
    "\n",
    "\n",
    "    LastListe = [LastHH, LastGW, LastPV, LastWind]\n",
    "    listSum = sum(LastListe)\n",
    "    \n",
    "    \n",
    "    ##########Interpretation der Gesamtlast ausgeben\n",
    "    \n",
    "    print(f\"Last -> {round(listSum, 2)} GigaWatt\")\n",
    "    \n",
    "    \n",
    "    if listSum > 0:\n",
    "        print(\"Stromueberschuss!!! Zuschaltbare Lasten pruefen oder Strom ins Ausland exportieren!\")\n",
    "\n",
    "    elif listSum < 0:\n",
    "        print(\"Zu wenig Strom!!! Verfuegbare Kraftwerkskapazitaeten oder abschaltbare Lasten suchen!\")\n",
    "\n",
    "    elif listSum == 0:\n",
    "        print(\"Verrueckt!!! Erneuerbare Stromproduktion deckt sich exakt mit Verbrauch!\")\n",
    "\n",
    "        \n",
    "        \n",
    "LastGesamt()"
   ]
  },
  {
   "cell_type": "code",
   "execution_count": null,
   "id": "e6eb9dae",
   "metadata": {},
   "outputs": [],
   "source": []
  },
  {
   "cell_type": "code",
   "execution_count": null,
   "id": "eb384b40",
   "metadata": {},
   "outputs": [],
   "source": []
  }
 ],
 "metadata": {
  "kernelspec": {
   "display_name": "Python 3 (ipykernel)",
   "language": "python",
   "name": "python3"
  },
  "language_info": {
   "codemirror_mode": {
    "name": "ipython",
    "version": 3
   },
   "file_extension": ".py",
   "mimetype": "text/x-python",
   "name": "python",
   "nbconvert_exporter": "python",
   "pygments_lexer": "ipython3",
   "version": "3.11.7"
  }
 },
 "nbformat": 4,
 "nbformat_minor": 5
}
